{
 "cells": [
  {
   "cell_type": "code",
   "execution_count": null,
   "id": "4470246d",
   "metadata": {
    "lines_to_next_cell": 0
   },
   "outputs": [],
   "source": []
  },
  {
   "cell_type": "code",
   "execution_count": null,
   "id": "f312f932",
   "metadata": {},
   "outputs": [],
   "source": [
    "import torch\n",
    "assert torch.rand(5, 3).round().max() == torch.tensor(1.)\n",
    "print(torch.cuda.is_available())"
   ]
  },
  {
   "cell_type": "code",
   "execution_count": null,
   "id": "25f6ea90",
   "metadata": {
    "colab": {
     "base_uri": "https://localhost:8080/"
    },
    "id": "yAGvl37adI_F",
    "outputId": "780082cf-e126-4a8c-faf2-d36fb2422df9"
   },
   "outputs": [],
   "source": [
    "def gpu_info():\n",
    "    # gpu_info = !nvidia-smi\n",
    "    return '\\n'.join(gpu_info)\n",
    "# print(gpu_info())"
   ]
  },
  {
   "cell_type": "code",
   "execution_count": null,
   "id": "49c952a9",
   "metadata": {
    "cellView": "form",
    "id": "qQOvOhnKQ-Tu"
   },
   "outputs": [],
   "source": [
    "# @title Setup\n",
    "\n",
    "# @markdown Please execute this cell by pressing the _Play_ button\n",
    "# @markdown on the left. You should only need to run this part once.\n",
    "\n",
    "# @markdown **Note**: This installs the software on the Colab\n",
    "# @markdown notebook in the cloud and not on your computer.\n",
    "\n",
    "# %%capture\n",
    "# this patch applied to fix torchtext dependency 11 Nov 2021\n",
    "#!pip install torch==1.9.0+cu111 torchtext==0.10.0 torchvision==0.10.0+cu111 -f https://download.pytorch.org/whl/torch/ -f https://download.pytorch.org/whl/torchvision/\n",
    "\n",
    "\n",
    "#!rm -Rf CLIP\n",
    "!git clone https://github.com/openai/CLIP\n",
    "\n",
    "\n",
    "#!rm -Rf taming-transformers\n",
    "!git clone https://github.com/CompVis/taming-transformers.git\n",
    "#!pip install taming-transformers\n",
    "\n",
    "#!rm -Rf pixray\n",
    "!git clone https://github.com/pixray/pixray\n",
    "#!git clone https://github.com/dribnet/pixray\n",
    "    \n",
    "#!rm -Rf v-diffusion-pytorch\n",
    "!git clone https://github.com/crowsonkb/v-diffusion-pytorch\n",
    "\n",
    "    \n",
    "\n",
    "#!pip install ftfy regex tqdm omegaconf pytorch-lightning\n",
    "#!pip install kornia==0.6.1\n",
    "#!pip install imageio-ffmpeg\n",
    "#!pip install einops\n",
    "#!pip install torch-optimizer\n",
    "#!pip install easydict\n",
    "#!pip install braceexpand\n",
    "#!pip install git+https://github.com/pvigier/perlin-numpy\n",
    "!mkdir -p steps\n",
    "!mkdir -p models\n",
    "\n",
    "#import sys\n",
    "# sys.path.append(\"pixray\")"
   ]
  },
  {
   "cell_type": "code",
   "execution_count": null,
   "id": "17871487",
   "metadata": {},
   "outputs": [],
   "source": [
    "!sed -i 's/from tokenizer/from simple_tokenizer/' ./pixray/slip.py\n",
    "!sed -i 's/import utils//' ./pixray/slip.py"
   ]
  },
  {
   "cell_type": "code",
   "execution_count": null,
   "id": "f20c026b",
   "metadata": {},
   "outputs": [],
   "source": [
    "import sys\n",
    "sys.path.append(\"pixray\")\n",
    "sys.path.append(\"v-diffusion-pytorch\")\n",
    "sys.path.append(\"CLIP/clip\")\n",
    "\n",
    "# Simple setup\n",
    "#import pixray.pixray\n",
    "#import pixray\n",
    "import pixray"
   ]
  },
  {
   "cell_type": "code",
   "execution_count": null,
   "id": "028860d6",
   "metadata": {},
   "outputs": [],
   "source": [
    "prompts = [\n",
    "    'round color palette',\n",
    "    'square color palette'\n",
    "]"
   ]
  },
  {
   "cell_type": "code",
   "execution_count": null,
   "id": "37cbd308",
   "metadata": {},
   "outputs": [],
   "source": [
    "# @title Settings\n",
    "\n",
    "# @markdown Stop on this Iteration (Doc recomends 300, over 600 nothing happens)\n",
    "iterations = 420  # @param {type:\"number\"}\n",
    "# @markdown Display preview result every X frames\n",
    "display_every = 84  # @param {type:\"number\"}\n",
    "# @markdown Build an .mp4 with all frames\n",
    "make_video = \"No\"  # @param [\"Yes\", \"No\"]\n",
    "# @markdown Initial random image\n",
    "init_noise = \"snow\"  # @param [\"pixels\", \"gradient\", \"snow\", \"none\"]\n",
    "# @markdown Initial image can be empty or an URL\n",
    "init_image = \"\"  # @param {type:\"string\"}\n",
    "# @markdown Initial image and noise opacity (0 to 255)\n",
    "init_image_alpha = 225  # @param {type:\"number\"}\n",
    "# @markdown Quality + Aspect pre-determines size\n",
    "quality = \"best\"  # @param [\"draft\", \"normal\", \"better\", \"best\"]\n",
    "aspect = \"square\"  # @param [\"widescreen\", \"portrait\", \"square\"]\n",
    "# @markdown Or override quality+aspect by setting a custom size\n",
    "use_size = \"Yes\"  # @param [\"Yes\", \"No\"]\n",
    "size_width = 150  # @param {type:\"number\"}\n",
    "size_height = 200  # @param {type:\"number\"}\n",
    "\n",
    "pixray.reset_settings()\n",
    "pixray.add_settings(prompts=prompts, aspect=aspect, quality=quality)\n",
    "pixray.add_settings(vector_prompts=\"textoff\")\n",
    "if use_size == \"Yes\":\n",
    "    pixray.add_settings(size=[size_width, size_height])\n",
    "pixray.add_settings(display_every=display_every)\n",
    "pixray.add_settings(iterations=iterations)\n",
    "pixray.add_settings(init_image=init_image)\n",
    "pixray.add_settings(init_image_alpha=init_image_alpha)\n",
    "pixray.add_settings(init_noise=init_noise)\n",
    "if make_video == \"Yes\":\n",
    "    pixray.add_settings(make_video=True)\n",
    "\n",
    "for prompt in prompts:\n",
    "    pixray.add_settings(prompts=prompt)\n",
    "    pixray.add_settings(output=prompt + \".png\")\n",
    "    settings = pixray.apply_settings()\n",
    "    pixray.do_init(settings)\n",
    "    pixray.do_run(settings)"
   ]
  },
  {
   "cell_type": "code",
   "execution_count": null,
   "id": "190ffa5e",
   "metadata": {},
   "outputs": [],
   "source": []
  }
 ],
 "metadata": {
  "kernelspec": {
   "display_name": "Python 3 (ipykernel)",
   "language": "python",
   "name": "python3"
  },
  "language_info": {
   "codemirror_mode": {
    "name": "ipython",
    "version": 3
   },
   "file_extension": ".py",
   "mimetype": "text/x-python",
   "name": "python",
   "nbconvert_exporter": "python",
   "pygments_lexer": "ipython3",
   "version": "3.9.10"
  }
 },
 "nbformat": 4,
 "nbformat_minor": 5
}
